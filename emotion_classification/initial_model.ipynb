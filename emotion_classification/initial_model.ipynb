{
 "nbformat": 4,
 "nbformat_minor": 0,
 "metadata": {
  "colab": {
   "provenance": [],
   "mount_file_id": "1BDgHp9BqkyvGqWYgIxPBl6d619fESEME",
   "authorship_tag": "ABX9TyOgRQLaRZETkzFMciVKS+qm"
  },
  "kernelspec": {
   "name": "python3",
   "display_name": "Python 3"
  },
  "language_info": {
   "name": "python"
  }
 },
 "cells": [
  {
   "cell_type": "code",
   "execution_count": 1,
   "metadata": {
    "colab": {
     "base_uri": "https://localhost:8080/"
    },
    "id": "9LZ8TxQCGmHI",
    "executionInfo": {
     "status": "ok",
     "timestamp": 1698074322633,
     "user_tz": -120,
     "elapsed": 34994,
     "user": {
      "displayName": "Jens De Bock",
      "userId": "01099031420993206680"
     }
    },
    "outputId": "cc56b287-ea3c-48cd-ba81-f22dab8a5f38"
   },
   "outputs": [
    {
     "output_type": "stream",
     "name": "stdout",
     "text": [
      "Drive already mounted at /content/drive; to attempt to forcibly remount, call drive.mount(\"/content/drive\", force_remount=True).\n"
     ]
    }
   ],
   "source": [
    "from google.colab import drive\n",
    "drive.mount('/content/drive')"
   ]
  },
  {
   "cell_type": "code",
   "source": [
    "import os\n",
    "import tensorflow as tf\n",
    "from tensorflow.keras import datasets, layers, models\n",
    "from tensorflow.keras.preprocessing.image import ImageDataGenerator\n",
    "import matplotlib.pyplot as plt\n",
    "import numpy as np\n",
    "import pandas as pd"
   ],
   "metadata": {
    "id": "9zwjsmW8GtVh",
    "executionInfo": {
     "status": "ok",
     "timestamp": 1698074326371,
     "user_tz": -120,
     "elapsed": 3740,
     "user": {
      "displayName": "Jens De Bock",
      "userId": "01099031420993206680"
     }
    }
   },
   "execution_count": 2,
   "outputs": []
  },
  {
   "cell_type": "code",
   "source": [
    "path = \"/content/drive/MyDrive/CIR/data/\"\n",
    "\n",
    "batch_size = 10\n",
    "img_height = 64\n",
    "img_width = 64\n",
    "validation_split = 0.2\n",
    "\n",
    "train_dataset = tf.keras.preprocessing.image_dataset_from_directory(\n",
    "    path,\n",
    "    validation_split=validation_split,\n",
    "    subset=\"training\",\n",
    "    seed=123,\n",
    "    image_size=(img_height, img_width),\n",
    "    batch_size=batch_size\n",
    ")\n",
    "\n",
    "validation_dataset = tf.keras.preprocessing.image_dataset_from_directory(\n",
    "    path,\n",
    "    validation_split=validation_split,\n",
    "    subset=\"validation\",\n",
    "    seed=123,\n",
    "    image_size=(img_height, img_width),\n",
    "    batch_size=batch_size\n",
    ")\n",
    "\n",
    "class_names = train_dataset.class_names\n",
    "print(class_names)"
   ],
   "metadata": {
    "colab": {
     "base_uri": "https://localhost:8080/"
    },
    "id": "yv3dp2oGOaHw",
    "executionInfo": {
     "status": "ok",
     "timestamp": 1698074332055,
     "user_tz": -120,
     "elapsed": 5688,
     "user": {
      "displayName": "Jens De Bock",
      "userId": "01099031420993206680"
     }
    },
    "outputId": "26bb9f71-4053-4710-e2d6-c8e3ac862fbd"
   },
   "execution_count": 3,
   "outputs": [
    {
     "output_type": "stream",
     "name": "stdout",
     "text": [
      "Found 1203 files belonging to 2 classes.\n",
      "Using 963 files for training.\n",
      "Found 1203 files belonging to 2 classes.\n",
      "Using 240 files for validation.\n",
      "['non_smile', 'smile']\n"
     ]
    }
   ]
  },
  {
   "cell_type": "code",
   "source": [
    "model = models.Sequential()\n",
    "model.add(layers.Conv2D(16, (3, 3), activation='relu', input_shape=(64, 64, 3)))\n",
    "model.add(layers.MaxPooling2D((2, 2)))\n",
    "model.add(layers.Conv2D(32, (3, 3), activation='relu'))\n",
    "model.add(layers.MaxPooling2D((2, 2)))\n",
    "model.add(layers.Conv2D(64, (3, 3), activation='relu'))\n",
    "model.add(layers.MaxPooling2D((2, 2)))\n",
    "model.add(layers.Conv2D(128, (3, 3), activation='relu'))\n",
    "model.add(layers.MaxPooling2D((2, 2)))\n",
    "model.add(layers.Flatten())\n",
    "model.add(layers.Dense(64, activation='relu'))\n",
    "model.add(layers.Dense(2))"
   ],
   "metadata": {
    "id": "2QY1HrxyO41P",
    "executionInfo": {
     "status": "ok",
     "timestamp": 1698074332055,
     "user_tz": -120,
     "elapsed": 10,
     "user": {
      "displayName": "Jens De Bock",
      "userId": "01099031420993206680"
     }
    }
   },
   "execution_count": 4,
   "outputs": []
  },
  {
   "cell_type": "code",
   "source": [
    "model.summary()"
   ],
   "metadata": {
    "colab": {
     "base_uri": "https://localhost:8080/"
    },
    "id": "BnqmQVWnMSE1",
    "executionInfo": {
     "status": "ok",
     "timestamp": 1698074332456,
     "user_tz": -120,
     "elapsed": 410,
     "user": {
      "displayName": "Jens De Bock",
      "userId": "01099031420993206680"
     }
    },
    "outputId": "2f162e68-507a-45ae-a49a-31f0e14f4f75"
   },
   "execution_count": 5,
   "outputs": [
    {
     "output_type": "stream",
     "name": "stdout",
     "text": [
      "Model: \"sequential\"\n",
      "_________________________________________________________________\n",
      " Layer (type)                Output Shape              Param #   \n",
      "=================================================================\n",
      " conv2d (Conv2D)             (None, 62, 62, 16)        448       \n",
      "                                                                 \n",
      " max_pooling2d (MaxPooling2  (None, 31, 31, 16)        0         \n",
      " D)                                                              \n",
      "                                                                 \n",
      " conv2d_1 (Conv2D)           (None, 29, 29, 32)        4640      \n",
      "                                                                 \n",
      " max_pooling2d_1 (MaxPoolin  (None, 14, 14, 32)        0         \n",
      " g2D)                                                            \n",
      "                                                                 \n",
      " conv2d_2 (Conv2D)           (None, 12, 12, 64)        18496     \n",
      "                                                                 \n",
      " max_pooling2d_2 (MaxPoolin  (None, 6, 6, 64)          0         \n",
      " g2D)                                                            \n",
      "                                                                 \n",
      " conv2d_3 (Conv2D)           (None, 4, 4, 128)         73856     \n",
      "                                                                 \n",
      " max_pooling2d_3 (MaxPoolin  (None, 2, 2, 128)         0         \n",
      " g2D)                                                            \n",
      "                                                                 \n",
      " flatten (Flatten)           (None, 512)               0         \n",
      "                                                                 \n",
      " dense (Dense)               (None, 64)                32832     \n",
      "                                                                 \n",
      " dense_1 (Dense)             (None, 2)                 130       \n",
      "                                                                 \n",
      "=================================================================\n",
      "Total params: 130402 (509.38 KB)\n",
      "Trainable params: 130402 (509.38 KB)\n",
      "Non-trainable params: 0 (0.00 Byte)\n",
      "_________________________________________________________________\n"
     ]
    }
   ]
  },
  {
   "cell_type": "code",
   "source": [
    "model.compile(optimizer='adam',\n",
    "              loss=tf.keras.losses.SparseCategoricalCrossentropy(from_logits=True),\n",
    "              metrics=['accuracy'])"
   ],
   "metadata": {
    "id": "ma9W0JCrK0Mt",
    "executionInfo": {
     "status": "ok",
     "timestamp": 1698074332456,
     "user_tz": -120,
     "elapsed": 5,
     "user": {
      "displayName": "Jens De Bock",
      "userId": "01099031420993206680"
     }
    }
   },
   "execution_count": 6,
   "outputs": []
  },
  {
   "cell_type": "code",
   "source": [
    "# Training loop\n",
    "history = model.fit(\n",
    "    train_dataset,\n",
    "    validation_data=validation_dataset,\n",
    "    epochs=20\n",
    ")\n",
    "\n",
    "# Print history (optional)\n",
    "print(history.history)"
   ],
   "metadata": {
    "id": "Ulc7pLhhNa-P",
    "colab": {
     "base_uri": "https://localhost:8080/"
    },
    "executionInfo": {
     "status": "ok",
     "timestamp": 1698074577957,
     "user_tz": -120,
     "elapsed": 245506,
     "user": {
      "displayName": "Jens De Bock",
      "userId": "01099031420993206680"
     }
    },
    "outputId": "17c96170-5800-4638-c3f7-d4b7f4127b18"
   },
   "execution_count": 7,
   "outputs": [
    {
     "output_type": "stream",
     "name": "stdout",
     "text": [
      "Epoch 1/20\n",
      "97/97 [==============================] - 98s 868ms/step - loss: 1.1855 - accuracy: 0.7196 - val_loss: 0.2344 - val_accuracy: 0.8917\n",
      "Epoch 2/20\n",
      "97/97 [==============================] - 8s 84ms/step - loss: 0.2479 - accuracy: 0.9232 - val_loss: 0.2569 - val_accuracy: 0.9000\n",
      "Epoch 3/20\n",
      "97/97 [==============================] - 6s 60ms/step - loss: 0.1675 - accuracy: 0.9439 - val_loss: 0.1253 - val_accuracy: 0.9542\n",
      "Epoch 4/20\n",
      "97/97 [==============================] - 6s 58ms/step - loss: 0.1106 - accuracy: 0.9647 - val_loss: 0.1142 - val_accuracy: 0.9417\n",
      "Epoch 5/20\n",
      "97/97 [==============================] - 9s 91ms/step - loss: 0.0989 - accuracy: 0.9678 - val_loss: 0.1289 - val_accuracy: 0.9542\n",
      "Epoch 6/20\n",
      "97/97 [==============================] - 5s 49ms/step - loss: 0.0877 - accuracy: 0.9740 - val_loss: 0.2084 - val_accuracy: 0.9250\n",
      "Epoch 7/20\n",
      "97/97 [==============================] - 7s 72ms/step - loss: 0.0519 - accuracy: 0.9865 - val_loss: 0.1082 - val_accuracy: 0.9458\n",
      "Epoch 8/20\n",
      "97/97 [==============================] - 5s 48ms/step - loss: 0.0321 - accuracy: 0.9927 - val_loss: 0.2086 - val_accuracy: 0.9167\n",
      "Epoch 9/20\n",
      "97/97 [==============================] - 7s 70ms/step - loss: 0.0565 - accuracy: 0.9834 - val_loss: 0.1087 - val_accuracy: 0.9458\n",
      "Epoch 10/20\n",
      "97/97 [==============================] - 5s 47ms/step - loss: 0.0209 - accuracy: 0.9938 - val_loss: 0.1145 - val_accuracy: 0.9292\n",
      "Epoch 11/20\n",
      "97/97 [==============================] - 5s 52ms/step - loss: 0.0558 - accuracy: 0.9865 - val_loss: 0.1414 - val_accuracy: 0.9500\n",
      "Epoch 12/20\n",
      "97/97 [==============================] - 5s 46ms/step - loss: 0.0547 - accuracy: 0.9792 - val_loss: 0.1726 - val_accuracy: 0.9458\n",
      "Epoch 13/20\n",
      "97/97 [==============================] - 7s 76ms/step - loss: 0.0872 - accuracy: 0.9688 - val_loss: 0.1564 - val_accuracy: 0.9458\n",
      "Epoch 14/20\n",
      "97/97 [==============================] - 5s 48ms/step - loss: 0.0316 - accuracy: 0.9896 - val_loss: 0.1651 - val_accuracy: 0.9333\n",
      "Epoch 15/20\n",
      "97/97 [==============================] - 5s 55ms/step - loss: 0.0412 - accuracy: 0.9875 - val_loss: 0.1250 - val_accuracy: 0.9583\n",
      "Epoch 16/20\n",
      "97/97 [==============================] - 6s 61ms/step - loss: 0.0377 - accuracy: 0.9823 - val_loss: 0.1568 - val_accuracy: 0.9708\n",
      "Epoch 17/20\n",
      "97/97 [==============================] - 6s 66ms/step - loss: 0.0047 - accuracy: 0.9979 - val_loss: 0.1431 - val_accuracy: 0.9500\n",
      "Epoch 18/20\n",
      "97/97 [==============================] - 5s 48ms/step - loss: 0.0880 - accuracy: 0.9688 - val_loss: 0.1622 - val_accuracy: 0.9458\n",
      "Epoch 19/20\n",
      "97/97 [==============================] - 7s 70ms/step - loss: 0.0374 - accuracy: 0.9896 - val_loss: 0.1102 - val_accuracy: 0.9667\n",
      "Epoch 20/20\n",
      "97/97 [==============================] - 5s 52ms/step - loss: 0.0043 - accuracy: 1.0000 - val_loss: 0.1158 - val_accuracy: 0.9542\n",
      "{'loss': [1.1854634284973145, 0.2479025274515152, 0.16747014224529266, 0.11061591655015945, 0.09892062097787857, 0.08770069479942322, 0.0519271194934845, 0.032093826681375504, 0.056549523025751114, 0.020877324044704437, 0.055823300033807755, 0.054711297154426575, 0.08723875880241394, 0.03158038482069969, 0.04120740666985512, 0.037698354572057724, 0.004691818729043007, 0.08801397681236267, 0.03737805411219597, 0.004260954447090626], 'accuracy': [0.7196261882781982, 0.9231567978858948, 0.9439252614974976, 0.9646936655044556, 0.9678089022636414, 0.9740394353866577, 0.9865005016326904, 0.9927310347557068, 0.9833852648735046, 0.9937694668769836, 0.9865005016326904, 0.979231595993042, 0.9688473343849182, 0.989615797996521, 0.9875389337539673, 0.9823468327522278, 0.9979231357574463, 0.9688473343849182, 0.989615797996521, 1.0], 'val_loss': [0.23443886637687683, 0.2569359540939331, 0.1252715289592743, 0.11416561901569366, 0.1289079338312149, 0.2084025740623474, 0.1082191914319992, 0.20856191217899323, 0.10874982178211212, 0.11453333497047424, 0.14143560826778412, 0.17257815599441528, 0.15644626319408417, 0.1651000827550888, 0.12499132007360458, 0.15675897896289825, 0.14310318231582642, 0.16224923729896545, 0.11020734906196594, 0.11581271141767502], 'val_accuracy': [0.8916666507720947, 0.8999999761581421, 0.9541666507720947, 0.9416666626930237, 0.9541666507720947, 0.925000011920929, 0.9458333253860474, 0.9166666865348816, 0.9458333253860474, 0.9291666746139526, 0.949999988079071, 0.9458333253860474, 0.9458333253860474, 0.9333333373069763, 0.9583333134651184, 0.9708333611488342, 0.949999988079071, 0.9458333253860474, 0.9666666388511658, 0.9541666507720947]}\n"
     ]
    }
   ]
  },
  {
   "cell_type": "code",
   "source": [
    "acc = history.history['accuracy']\n",
    "val_acc = history.history['val_accuracy']\n",
    "loss = history.history['loss']\n",
    "val_loss = history.history['val_loss']\n",
    "\n",
    "epochs = range(1, len(acc) + 1)\n",
    "\n",
    "plt.plot(epochs, acc, 'b', label='Training acc')\n",
    "plt.plot(epochs, val_acc, 'r', label='Validation acc')\n",
    "plt.title('Training and validation accuracy')\n",
    "plt.legend()\n",
    "\n",
    "plt.figure()\n",
    "\n",
    "plt.plot(epochs, loss, 'b', label='Training loss')\n",
    "plt.plot(epochs, val_loss, 'r', label='Validation loss')\n",
    "plt.title('Training and validation loss')\n",
    "plt.legend()\n",
    "\n",
    "plt.show()"
   ],
   "metadata": {
    "id": "fa-wHsHBNemW",
    "colab": {
     "base_uri": "https://localhost:8080/",
     "height": 887
    },
    "executionInfo": {
     "status": "ok",
     "timestamp": 1698074578456,
     "user_tz": -120,
     "elapsed": 685,
     "user": {
      "displayName": "Jens De Bock",
      "userId": "01099031420993206680"
     }
    },
    "outputId": "19d4a94f-c5d6-4c71-95f3-1d990f75f1ab"
   },
   "execution_count": 8,
   "outputs": [
    {
     "output_type": "display_data",
     "data": {
      "text/plain": [
       "<Figure size 640x480 with 1 Axes>"
      ],
      "image/png": "[encoded data removed]"
     },
     "metadata": {}
    },
    {
     "output_type": "display_data",
     "data": {
      "text/plain": [
       "<Figure size 640x480 with 1 Axes>"
      ],
      "image/png": "[encoded data removed]"
     },
     "metadata": {}
    }
   ]
  },
  {
   "cell_type": "code",
   "source": [
    "model.save(\"/content/drive/MyDrive/CIR/initial_model.keras\")\n",
    "model.save(\"/content/drive/MyDrive/CIR/initial_model.h5\")"
   ],
   "metadata": {
    "colab": {
     "base_uri": "https://localhost:8080/"
    },
    "id": "piQeIJ5aH0r4",
    "executionInfo": {
     "status": "ok",
     "timestamp": 1698074580039,
     "user_tz": -120,
     "elapsed": 337,
     "user": {
      "displayName": "Jens De Bock",
      "userId": "01099031420993206680"
     }
    },
    "outputId": "d1a362f9-2116-467d-eb9b-acacdd8d7667"
   },
   "execution_count": 9,
   "outputs": [
    {
     "output_type": "stream",
     "name": "stderr",
     "text": [
      "/usr/local/lib/python3.10/dist-packages/keras/src/engine/training.py:3000: UserWarning: You are saving your model as an HDF5 file via `model.save()`. This file format is considered legacy. We recommend using instead the native Keras format, e.g. `model.save('my_model.keras')`.\n",
      "  saving_api.save_model(\n"
     ]
    }
   ]
  },
  {
   "cell_type": "code",
   "source": [
    "test_path = \"/content/drive/MyDrive/CIR/data\"\n",
    "\n",
    "test_dataset = tf.keras.preprocessing.image_dataset_from_directory(\n",
    "    test_path,\n",
    "    validation_split=0.5,  # Set to any value, as test set doesn't need to be large\n",
    "    subset=\"validation\",   # Create a test dataset\n",
    "    seed=123,\n",
    "    image_size=(img_height, img_width),\n",
    "    batch_size=batch_size\n",
    ")\n",
    "\n",
    "pred = model.predict(\n",
    "    test_dataset\n",
    ")\n",
    "\n",
    "print(pred)"
   ],
   "metadata": {
    "colab": {
     "base_uri": "https://localhost:8080/"
    },
    "id": "-mmIklHkPmJ-",
    "executionInfo": {
     "status": "ok",
     "timestamp": 1698074583047,
     "user_tz": -120,
     "elapsed": 3017,
     "user": {
      "displayName": "Jens De Bock",
      "userId": "01099031420993206680"
     }
    },
    "outputId": "e8d9d21f-5c18-4a04-9973-a9d7b5109bbc"
   },
   "execution_count": 10,
   "outputs": [
    {
     "output_type": "stream",
     "name": "stdout",
     "text": [
      "Found 1203 files belonging to 2 classes.\n",
      "Using 601 files for validation.\n",
      "61/61 [==============================] - 3s 30ms/step\n",
      "[[-24.759493    15.856832  ]\n",
      " [  5.5094304   -9.813275  ]\n",
      " [ -9.472905     3.4665284 ]\n",
      " ...\n",
      " [ -6.2326684    0.49031714]\n",
      " [-13.177226     6.370776  ]\n",
      " [  5.273868    -9.709037  ]]\n"
     ]
    }
   ]
  },
  {
   "cell_type": "code",
   "source": [
    "classes = [\"non_smile\", \"smile\"]\n",
    "working_dir=r'./'\n",
    "\n",
    "test_dir=r\"/content/drive/MyDrive/CIR/x\"\n",
    "bs=100\n",
    "filepaths=[]\n",
    "flist=sorted(os.listdir(test_dir))\n",
    "for f in flist:\n",
    "    fpath=os.path.join(test_dir,f)\n",
    "    filepaths.append(fpath)\n",
    "Fseries=pd.Series(filepaths, name='filepaths')\n",
    "test_df=pd.concat([Fseries], axis=1)\n",
    "gen=ImageDataGenerator()\n",
    "test_gen=gen.flow_from_dataframe(test_df, x_col='filepaths', y_col=None, class_mode=None, target_size=(64, 64),\n",
    "                                color_mode='rgb', shuffle=False, batch_size=bs)\n",
    "preds=model.predict(test_gen, verbose=1)\n",
    "pred_class=[]\n",
    "files=[]\n",
    "for i, p in enumerate(preds):\n",
    "    index=np.argmax(p)\n",
    "    pred_class.append(classes[index])\n",
    "    file=test_gen.filenames[i].split('/')[6]\n",
    "    files.append(file)\n",
    "Fseries=pd.Series(files, name='File Name')\n",
    "Cseries=pd.Series(pred_class, name='Predicted Class')\n",
    "predictions_df=pd.concat([Fseries, Cseries], axis=1)\n",
    "csv_path=os.path.join(working_dir, 'predictions.csv')\n",
    "predictions_df.to_csv(csv_path, index=False)\n",
    "# read in csv to make sure it is correct\n",
    "df=pd.read_csv(csv_path)\n",
    "print (df.head(20))"
   ],
   "metadata": {
    "colab": {
     "base_uri": "https://localhost:8080/"
    },
    "id": "6iXOnwrAWOU-",
    "executionInfo": {
     "status": "ok",
     "timestamp": 1698074584286,
     "user_tz": -120,
     "elapsed": 1247,
     "user": {
      "displayName": "Jens De Bock",
      "userId": "01099031420993206680"
     }
    },
    "outputId": "1953a3fe-e18c-42d9-cb4d-748e5c4a8039"
   },
   "execution_count": 11,
   "outputs": [
    {
     "output_type": "stream",
     "name": "stdout",
     "text": [
      "Found 4 validated image filenames.\n",
      "1/1 [==============================] - 0s 129ms/step\n",
      "  File Name Predicted Class\n",
      "0       CIR           smile\n",
      "1       CIR           smile\n",
      "2       CIR       non_smile\n",
      "3       CIR       non_smile\n"
     ]
    }
   ]
  },
  {
   "cell_type": "code",
   "source": [],
   "metadata": {
    "id": "i74vROc4YUiv"
   },
   "execution_count": null,
   "outputs": []
  }
 ]
}
