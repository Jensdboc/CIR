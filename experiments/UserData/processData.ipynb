{
 "cells": [
  {
   "cell_type": "code",
   "execution_count": 2,
   "metadata": {
    "ExecuteTime": {
     "end_time": "2023-12-27T14:38:07.208570100Z",
     "start_time": "2023-12-27T14:38:07.189517900Z"
    },
    "collapsed": false
   },
   "outputs": [],
   "source": [
    "import os \n",
    "import pandas as pd\n",
    "import numpy as np\n",
    "import json"
   ]
  },
  {
   "cell_type": "code",
   "execution_count": 8,
   "metadata": {
    "ExecuteTime": {
     "end_time": "2023-12-27T14:48:33.003116200Z",
     "start_time": "2023-12-27T14:48:31.811568400Z"
    },
    "colab": {
     "base_uri": "https://localhost:8080/",
     "height": 403
    },
    "executionInfo": {
     "elapsed": 467,
     "status": "error",
     "timestamp": 1703685935851,
     "user": {
      "displayName": "Jens De Bock",
      "userId": "08772086773480223779"
     },
     "user_tz": -60
    },
    "id": "fbykrjkOjZWq",
    "outputId": "8c8bd4c8-16e8-41fe-a87b-e9e0d797beac"
   },
   "outputs": [],
   "source": [
    "\n",
    "base_path = \"D:\\\\Documents\\\\GitHub\\\\CIR\\\\experiments\\\\UserData\"\n",
    "\n",
    "results = {}\n",
    "\n",
    "# Loop over all the files\n",
    "for dir in os.listdir(base_path):\n",
    "    dir_path = base_path + \"\\\\\" + dir\n",
    "    # Only check the directories\n",
    "    if os.path.isdir(dir_path):\n",
    "        for file in os.listdir(dir_path):\n",
    "            file_path = dir_path + \"\\\\\" + file\n",
    "            # Only check the files\n",
    "            if not os.path.isdir(file_path):\n",
    "                log_path = dir_path + \"\\\\logs\"\n",
    "                # Get the excel file and convert to an array with 0, 0.5 and 1\n",
    "                # representing neutral, slight smile and smile\n",
    "                df = pd.read_excel(file_path)\n",
    "                result_array = np.where(df.iloc[3:, 1:4] == 'x')[1] / 2\n",
    "                for log in os.listdir(log_path):\n",
    "                    # Get the corresponding log file and convert to an array\n",
    "                    # with numbers representing the smile degree\n",
    "                    if file[2:-5] in log:\n",
    "                        with open(log_path + \"/\" + log, \"r\") as log_file:\n",
    "                            json_log = json.load(log_file)\n",
    "                            smile_degree_array = [entry['smileDegree'] for entry in json_log]\n",
    "                results[file[:-5]] = [result_array, smile_degree_array]"
   ]
  },
  {
   "cell_type": "markdown",
   "metadata": {},
   "source": [
    "### General MSE comparison"
   ]
  },
  {
   "cell_type": "code",
   "execution_count": 9,
   "metadata": {},
   "outputs": [
    {
     "name": "stdout",
     "output_type": "stream",
     "text": [
      "Total MSE \t = -0.13205479156940012\n",
      "MSE A \t\t = -0.13099312341198133\n",
      "MSE B \t\t = -0.133265373577282\n"
     ]
    }
   ],
   "source": [
    "MSE = 0\n",
    "MSE_A = 0\n",
    "MSE_B = 0\n",
    "length = 0\n",
    "length_A = 0\n",
    "length_B = 0\n",
    "\n",
    "for key, values in results.items():\n",
    "    min_len = min(len(values[0]), len(values[1]))\n",
    "    MSE += sum(values[0][:min_len] - values[1][:min_len])\n",
    "    length += min_len\n",
    "    if key[-1] == \"A\":\n",
    "        MSE_A += sum(values[0][:min_len] - values[1][:min_len])\n",
    "        length_A += min_len\n",
    "    elif key[-1] == \"B\":\n",
    "        MSE_B += sum(values[0][:min_len] - values[1][:min_len])\n",
    "        length_B += min_len\n",
    "        \n",
    "MSE_A /= length_A\n",
    "MSE_B /= length_B\n",
    "MSE /= length\n",
    "\n",
    "print(f\"Total MSE \\t = {MSE}\")\n",
    "print(f\"MSE A \\t\\t = {MSE_A}\")\n",
    "print(f\"MSE B \\t\\t = {MSE_B}\")"
   ]
  },
  {
   "cell_type": "markdown",
   "metadata": {},
   "source": [
    "### Average happiness"
   ]
  },
  {
   "cell_type": "code",
   "execution_count": 17,
   "metadata": {},
   "outputs": [
    {
     "name": "stdout",
     "output_type": "stream",
     "text": [
      "Total happiness \t\t\t = 0.4902676399026764\n",
      "Total happiness with recommender \t = 0.6491721614005638\n",
      "Total happiness A \t\t\t = 0.4847161572052402\n",
      "Total happiness A with recommender \t = 0.6505553012928176\n",
      "Total happiness B \t\t\t = 0.49725274725274726\n",
      "Total happiness B with recommender \t = 0.6474318370306404\n"
     ]
    }
   ],
   "source": [
    "happiness = 0\n",
    "happiness_A = 0\n",
    "happiness_B = 0\n",
    "happiness_recomm = 0\n",
    "happiness_recomm_A = 0\n",
    "happiness_recomm_B = 0\n",
    "length = 0\n",
    "length_A = 0\n",
    "length_B = 0\n",
    "\n",
    "for key, values in results.items():\n",
    "    if int(key.split(\"_\")[0]) < 9:  # Lena\n",
    "    # if int(key.split(\"_\")[0]:) >= 9 and int(key.split(\"_\")[0]) < 17:  # Jens\n",
    "    # if True:  # Default\n",
    "        min_len = min(len(values[0]), len(values[1]))\n",
    "        happiness += sum(values[0][:min_len])\n",
    "        happiness_recomm += sum(values[1][:min_len])\n",
    "        length += min_len\n",
    "        if key[-1] == \"A\":\n",
    "            happiness_A += sum(values[0][:min_len])\n",
    "            happiness_recomm_A += sum(values[1][:min_len])\n",
    "            length_A += min_len\n",
    "        elif key[-1] == \"B\":\n",
    "            happiness_B += sum(values[0][:min_len])\n",
    "            happiness_recomm_B += sum(values[1][:min_len])\n",
    "            length_B += min_len\n",
    "        \n",
    "happiness /= length\n",
    "happiness_A /= length_A\n",
    "happiness_B /= length_B\n",
    "happiness_recomm /= length\n",
    "happiness_recomm_A /= length_A\n",
    "happiness_recomm_B /= length_B\n",
    "\n",
    "print(f\"Total happiness \\t\\t\\t = {happiness}\")\n",
    "print(f\"Total happiness with recommender \\t = {happiness_recomm}\")\n",
    "print(f\"Total happiness A \\t\\t\\t = {happiness_A}\")\n",
    "print(f\"Total happiness A with recommender \\t = {happiness_recomm_A}\")\n",
    "print(f\"Total happiness B \\t\\t\\t = {happiness_B}\")\n",
    "print(f\"Total happiness B with recommender \\t = {happiness_recomm_B}\")"
   ]
  },
  {
   "cell_type": "markdown",
   "metadata": {},
   "source": [
    "### Happiness over time for recommender system"
   ]
  },
  {
   "cell_type": "code",
   "execution_count": 12,
   "metadata": {},
   "outputs": [
    {
     "name": "stdout",
     "output_type": "stream",
     "text": [
      "Happiness first part \t = 0.15195369030390737\n",
      "Happiness second part \t = 0.12662807525325614\n"
     ]
    }
   ],
   "source": [
    "happiness_first_part = 0\n",
    "happiness_second_part = 0\n",
    "length_A = 0\n",
    "\n",
    "for key, values in results.items():\n",
    "    if key[-1] == \"A\":\n",
    "        min_len = min(len(values[0]), len(values[1]))\n",
    "        length_A += min_len\n",
    "        happiness_first_part += sum(values[0][:min_len//2])\n",
    "        happiness_second_part += sum(values[0][min_len//2:min_len])\n",
    "\n",
    "happiness_first_part /= length_A\n",
    "happiness_second_part /= length_A\n",
    "\n",
    "print(f\"Happiness first part \\t = {happiness_first_part}\")\n",
    "print(f\"Happiness second part \\t = {happiness_second_part}\")"
   ]
  },
  {
   "cell_type": "code",
   "execution_count": null,
   "metadata": {},
   "outputs": [],
   "source": []
  }
 ],
 "metadata": {
  "colab": {
   "authorship_tag": "ABX9TyNgPn/PQdx6vEeYwM6chSeq",
   "provenance": []
  },
  "kernelspec": {
   "display_name": "Python 3 (ipykernel)",
   "language": "python",
   "name": "python3"
  },
  "language_info": {
   "codemirror_mode": {
    "name": "ipython",
    "version": 3
   },
   "file_extension": ".py",
   "mimetype": "text/x-python",
   "name": "python",
   "nbconvert_exporter": "python",
   "pygments_lexer": "ipython3",
   "version": "3.10.13"
  }
 },
 "nbformat": 4,
 "nbformat_minor": 0
}
