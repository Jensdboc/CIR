{
 "cells": [
  {
   "cell_type": "code",
   "execution_count": 3,
   "metadata": {
    "ExecuteTime": {
     "end_time": "2023-12-27T14:38:07.208570100Z",
     "start_time": "2023-12-27T14:38:07.189517900Z"
    },
    "collapsed": false
   },
   "outputs": [],
   "source": [
    "import os \n",
    "import pandas as pd\n",
    "import numpy as np\n",
    "import json"
   ]
  },
  {
   "cell_type": "code",
   "execution_count": 4,
   "metadata": {
    "ExecuteTime": {
     "end_time": "2023-12-27T14:48:33.003116200Z",
     "start_time": "2023-12-27T14:48:31.811568400Z"
    },
    "colab": {
     "base_uri": "https://localhost:8080/",
     "height": 403
    },
    "executionInfo": {
     "elapsed": 467,
     "status": "error",
     "timestamp": 1703685935851,
     "user": {
      "displayName": "Jens De Bock",
      "userId": "08772086773480223779"
     },
     "user_tz": -60
    },
    "id": "fbykrjkOjZWq",
    "outputId": "8c8bd4c8-16e8-41fe-a87b-e9e0d797beac"
   },
   "outputs": [],
   "source": [
    "\n",
    "base_path = \"D:\\\\Documents\\\\GitHub\\\\CIR\\\\experiments\\\\UserData\"\n",
    "\n",
    "results = {}\n",
    "\n",
    "# Loop over all the files\n",
    "for dir in os.listdir(base_path):\n",
    "    dir_path = base_path + \"\\\\\" + dir\n",
    "    # Only check the directories\n",
    "    if os.path.isdir(dir_path):\n",
    "        for file in os.listdir(dir_path):\n",
    "            file_path = dir_path + \"\\\\\" + file\n",
    "            # Only check the files\n",
    "            if not os.path.isdir(file_path):\n",
    "                log_path = dir_path + \"\\\\logs\"\n",
    "                # Get the excel file and convert to an array with 0, 0.5 and 1\n",
    "                # representing neutral, slight smile and smile\n",
    "                df = pd.read_excel(file_path)\n",
    "                result_array = np.where(df.iloc[3:, 1:4] == 'x')[1] / 2\n",
    "                for log in os.listdir(log_path):\n",
    "                    # Get the corresponding log file and convert to an array\n",
    "                    # with numbers representing the smile degree\n",
    "                    if file[2:-5] in log:\n",
    "                        with open(log_path + \"/\" + log, \"r\") as log_file:\n",
    "                            json_log = json.load(log_file)\n",
    "                            smile_degree_array = [entry['smileDegree'] for entry in json_log]\n",
    "                results[file[2:-5]] = [result_array, smile_degree_array]"
   ]
  },
  {
   "cell_type": "code",
   "execution_count": 12,
   "metadata": {
    "collapsed": false
   },
   "outputs": [
    {
     "name": "stdout",
     "output_type": "stream",
     "text": [
      "MSE= -0.13205479156940012\n"
     ]
    }
   ],
   "source": [
    "MSE = 0\n",
    "length = 0\n",
    "for values in results.values():\n",
    "    min_len = min(len(values[0]), len(values[1]))\n",
    "    MSE += sum(values[0][:min_len] - values[1][:min_len])\n",
    "    length += min_len\n",
    "MSE /= length\n",
    "\n",
    "print(f\"Total MSE= {MSE}\")\n",
    "    "
   ]
  },
  {
   "cell_type": "code",
   "execution_count": 17,
   "metadata": {},
   "outputs": [
    {
     "name": "stdout",
     "output_type": "stream",
     "text": [
      "Total MSE = -0.13205479156940012\n",
      "MSE A = -0.13099312341198133\n",
      "MSE B = -0.133265373577282\n"
     ]
    }
   ],
   "source": [
    "MSE = 0\n",
    "MSE_A = 0\n",
    "MSE_B = 0\n",
    "length = 0\n",
    "length_A = 0\n",
    "length_B = 0\n",
    "\n",
    "for key, values in results.items():\n",
    "    min_len = min(len(values[0]), len(values[1]))\n",
    "    MSE += sum(values[0][:min_len] - values[1][:min_len])\n",
    "    length += min_len\n",
    "    if key[-1] == \"A\":\n",
    "        min_len_A = min(len(values[0]), len(values[1]))\n",
    "        MSE_A += sum(values[0][:min_len_A] - values[1][:min_len_A])\n",
    "        length_A += min_len_A\n",
    "    elif key[-1] == \"B\":\n",
    "        min_len_B = min(len(values[0]), len(values[1]))\n",
    "        MSE_B += sum(values[0][:min_len_B] - values[1][:min_len_B])\n",
    "        length_B += min_len_B\n",
    "\n",
    "MSE_A /= length_A\n",
    "MSE_B /= length_B\n",
    "MSE /= length\n",
    "\n",
    "print(f\"Total MSE = {MSE}\")\n",
    "print(f\"MSE A = {MSE_A}\")\n",
    "print(f\"MSE B = {MSE_B}\")"
   ]
  },
  {
   "cell_type": "code",
   "execution_count": null,
   "metadata": {},
   "outputs": [],
   "source": []
  }
 ],
 "metadata": {
  "colab": {
   "authorship_tag": "ABX9TyNgPn/PQdx6vEeYwM6chSeq",
   "provenance": []
  },
  "kernelspec": {
   "display_name": "Python 3 (ipykernel)",
   "language": "python",
   "name": "python3"
  },
  "language_info": {
   "codemirror_mode": {
    "name": "ipython",
    "version": 3
   },
   "file_extension": ".py",
   "mimetype": "text/x-python",
   "name": "python",
   "nbconvert_exporter": "python",
   "pygments_lexer": "ipython3",
   "version": "3.10.13"
  }
 },
 "nbformat": 4,
 "nbformat_minor": 0
}
