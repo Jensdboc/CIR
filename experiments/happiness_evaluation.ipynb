{
 "cells": [
  {
   "cell_type": "code",
   "execution_count": 52,
   "metadata": {
    "ExecuteTime": {
     "end_time": "2023-12-27T14:38:07.208570100Z",
     "start_time": "2023-12-27T14:38:07.189517900Z"
    },
    "collapsed": false
   },
   "outputs": [],
   "source": [
    "import os \n",
    "import pandas as pd\n",
    "import numpy as np\n",
    "import json\n",
    "import matplotlib.pyplot as plt\n",
    "\n",
    "# print(f'pandas version: {pd.__version__}')\n",
    "# print(f'numpy version: {np.__version__}')\n",
    "# print(f'json version: {json.__version__}')"
   ]
  },
  {
   "cell_type": "code",
   "execution_count": 53,
   "metadata": {
    "ExecuteTime": {
     "end_time": "2023-12-27T14:48:33.003116200Z",
     "start_time": "2023-12-27T14:48:31.811568400Z"
    },
    "colab": {
     "base_uri": "https://localhost:8080/",
     "height": 403
    },
    "executionInfo": {
     "elapsed": 467,
     "status": "error",
     "timestamp": 1703685935851,
     "user": {
      "displayName": "Jens De Bock",
      "userId": "08772086773480223779"
     },
     "user_tz": -60
    },
    "id": "fbykrjkOjZWq",
    "outputId": "8c8bd4c8-16e8-41fe-a87b-e9e0d797beac"
   },
   "outputs": [
    {
     "name": "stdout",
     "output_type": "stream",
     "text": [
      "Amount of files: 32\n"
     ]
    }
   ],
   "source": [
    "base_path = \"./UserData/\"\n",
    "\n",
    "results = {}\n",
    "amount_of_files = 0\n",
    "\n",
    "# Loop over all the files\n",
    "for dir in os.listdir(base_path):\n",
    "    dir_path = base_path + dir\n",
    "\n",
    "    # Only check the directories\n",
    "    if os.path.isdir(dir_path):\n",
    "        for file in os.listdir(dir_path):\n",
    "            file_path = dir_path + \"/\" + file\n",
    "\n",
    "            # Only check the files\n",
    "            if not os.path.isdir(file_path):\n",
    "                amount_of_files += 1\n",
    "                log_path = dir_path + \"/logs\"\n",
    "                \n",
    "                # Get the excel file and convert to an array with 0, 0.5 and 1\n",
    "                # representing neutral, slight smile and smile\n",
    "                df = pd.read_excel(file_path)\n",
    "                result_array = np.where(df.iloc[3:, 1:4] == 'x')[1] / 2\n",
    "                for log in os.listdir(log_path):\n",
    "                    # Get the corresponding log file and convert to an array\n",
    "                    # with numbers representing the smile degree\n",
    "                    if file[2:-5] in log:\n",
    "                        with open(log_path + \"/\" + log, \"r\") as log_file:\n",
    "                            json_log = json.load(log_file)\n",
    "                            smile_degree_array = [entry['smileDegree'] for entry in json_log]\n",
    "                results[file[:-5]] = [result_array, smile_degree_array]\n",
    "                \n",
    "print(f\"Amount of files: {amount_of_files}\")"
   ]
  },
  {
   "cell_type": "markdown",
   "metadata": {},
   "source": [
    "### General MSE comparison"
   ]
  },
  {
   "cell_type": "code",
   "execution_count": 54,
   "metadata": {},
   "outputs": [
    {
     "name": "stdout",
     "output_type": "stream",
     "text": [
      "Total MSE \t = -0.13205479156940012\n",
      "MSE A \t\t = -0.13099312341198133\n",
      "MSE B \t\t = -0.133265373577282\n"
     ]
    }
   ],
   "source": [
    "MSE = 0\n",
    "MSE_A = 0\n",
    "MSE_B = 0\n",
    "length = 0\n",
    "length_A = 0\n",
    "length_B = 0\n",
    "\n",
    "for key, values in results.items():\n",
    "    min_len = min(len(values[0]), len(values[1]))\n",
    "    MSE += sum(values[0][:min_len] - values[1][:min_len])\n",
    "    length += min_len\n",
    "    if key[-1] == \"A\":\n",
    "        MSE_A += sum(values[0][:min_len] - values[1][:min_len])\n",
    "        length_A += min_len\n",
    "    elif key[-1] == \"B\":\n",
    "        MSE_B += sum(values[0][:min_len] - values[1][:min_len])\n",
    "        length_B += min_len\n",
    "        \n",
    "MSE_A /= length_A\n",
    "MSE_B /= length_B\n",
    "MSE /= length\n",
    "\n",
    "print(f\"Total MSE \\t = {MSE}\")\n",
    "print(f\"MSE A \\t\\t = {MSE_A}\")\n",
    "print(f\"MSE B \\t\\t = {MSE_B}\")"
   ]
  },
  {
   "cell_type": "markdown",
   "metadata": {},
   "source": [
    "### Average happiness"
   ]
  },
  {
   "cell_type": "code",
   "execution_count": 55,
   "metadata": {},
   "outputs": [
    {
     "name": "stdout",
     "output_type": "stream",
     "text": [
      "Total happiness \t\t\t = 0.4902676399026764\n",
      "Total happiness with recommender \t = 0.6491721614005638\n",
      "Total happiness A \t\t\t = 0.4847161572052402\n",
      "Total happiness A with recommender \t = 0.6505553012928176\n",
      "Total happiness B \t\t\t = 0.49725274725274726\n",
      "Total happiness B with recommender \t = 0.6474318370306404\n"
     ]
    }
   ],
   "source": [
    "happiness = 0\n",
    "happiness_A = 0\n",
    "happiness_B = 0\n",
    "happiness_recomm = 0\n",
    "happiness_recomm_A = 0\n",
    "happiness_recomm_B = 0\n",
    "length = 0\n",
    "length_A = 0\n",
    "length_B = 0\n",
    "\n",
    "for key, values in results.items():\n",
    "    if int(key.split(\"_\")[0]) < 9:  # Lena\n",
    "    # if int(key.split(\"_\")[0]:) >= 9 and int(key.split(\"_\")[0]) < 17:  # Jens\n",
    "    # if True:  # Default\n",
    "        min_len = min(len(values[0]), len(values[1]))\n",
    "        happiness += sum(values[0][:min_len])\n",
    "        happiness_recomm += sum(values[1][:min_len])\n",
    "        length += min_len\n",
    "        if key[-1] == \"A\":\n",
    "            happiness_A += sum(values[0][:min_len])\n",
    "            happiness_recomm_A += sum(values[1][:min_len])\n",
    "            length_A += min_len\n",
    "        elif key[-1] == \"B\":\n",
    "            happiness_B += sum(values[0][:min_len])\n",
    "            happiness_recomm_B += sum(values[1][:min_len])\n",
    "            length_B += min_len\n",
    "        \n",
    "happiness /= length\n",
    "happiness_A /= length_A\n",
    "happiness_B /= length_B\n",
    "happiness_recomm /= length\n",
    "happiness_recomm_A /= length_A\n",
    "happiness_recomm_B /= length_B\n",
    "\n",
    "print(f\"Total happiness \\t\\t\\t = {happiness}\")\n",
    "print(f\"Total happiness with recommender \\t = {happiness_recomm}\")\n",
    "print(f\"Total happiness A \\t\\t\\t = {happiness_A}\")\n",
    "print(f\"Total happiness A with recommender \\t = {happiness_recomm_A}\")\n",
    "print(f\"Total happiness B \\t\\t\\t = {happiness_B}\")\n",
    "print(f\"Total happiness B with recommender \\t = {happiness_recomm_B}\")"
   ]
  },
  {
   "cell_type": "markdown",
   "metadata": {},
   "source": [
    "### Happiness over time for recommender system"
   ]
  },
  {
   "cell_type": "code",
   "execution_count": 56,
   "metadata": {},
   "outputs": [
    {
     "name": "stdout",
     "output_type": "stream",
     "text": [
      "Happiness first part \t = 0.2347856359841381\n",
      "Happiness second part \t = 0.17478925298500678\n"
     ]
    }
   ],
   "source": [
    "happiness_first_part = 0\n",
    "happiness_second_part = 0\n",
    "length_A = 0\n",
    "\n",
    "for key, values in results.items():\n",
    "    if key[-1] == \"A\":\n",
    "        min_len = min(len(values[0]), len(values[1]))\n",
    "        length_A += min_len\n",
    "        happiness_first_part += sum(values[1][:min_len//2])\n",
    "        happiness_second_part += sum(values[1][min_len//2:min_len])\n",
    "\n",
    "happiness_first_part /= length_A\n",
    "happiness_second_part /= length_A\n",
    "\n",
    "print(f\"Happiness first part \\t = {happiness_first_part}\")\n",
    "print(f\"Happiness second part \\t = {happiness_second_part}\")"
   ]
  },
  {
   "cell_type": "markdown",
   "metadata": {},
   "source": [
    "### Mann-Whitney"
   ]
  },
  {
   "cell_type": "code",
   "execution_count": 57,
   "metadata": {},
   "outputs": [],
   "source": [
    "base_path = \"./UserData/\"\n",
    "amount_of_files = 0\n",
    "\n",
    "first = True\n",
    "\n",
    "# Loop over all the files\n",
    "for dir in os.listdir(base_path):\n",
    "    dir_path = base_path + dir\n",
    "    # dir_path = base_path + \"\\\\\" + dir\n",
    "\n",
    "    # Only check the directories\n",
    "    if os.path.isdir(dir_path):\n",
    "        for file in os.listdir(dir_path):\n",
    "            file_path = dir_path + \"/\" + file\n",
    "            # file_path = dir_path + \"\\\\\" + file\n",
    "\n",
    "            # Only check the files\n",
    "            if not os.path.isdir(file_path):\n",
    "                amount_of_files += 1\n",
    "                log_path = dir_path + \"/logs\"\n",
    "                # log_path = dir_path + \"\\\\logs\"\n",
    "                \n",
    "                # Get the excel file and convert to an array with 0, 0.5 and 1\n",
    "                # representing neutral, slight smile and smile\n",
    "                df = pd.read_excel(file_path)\n",
    "                # print(df.head())\n",
    "                int_result_own = np.where(df.iloc[3:, 1:4] == 'x')[1] / 2\n",
    "\n",
    "                for log in os.listdir(log_path):\n",
    "                    # Get the corresponding log file and convert to an array\n",
    "                    # with numbers representing the smile degree\n",
    "                    if file[2:-5] in log:\n",
    "                        with open(log_path + \"/\" + log, \"r\") as log_file:\n",
    "                            json_log = json.load(log_file)\n",
    "                            int_result_robot = np.array([entry['smileDegree'] for entry in json_log])\n",
    "                array_length = min(len(int_result_own), len(int_result_robot))\n",
    "                if first:\n",
    "                    result_own = int_result_own[:array_length]\n",
    "                    result_robot = int_result_robot[:array_length]\n",
    "                    first = False\n",
    "                else:\n",
    "                    result_own = np.concatenate((result_own, int_result_own[:array_length]))\n",
    "                    result_robot = np.concatenate((result_robot, int_result_robot[:array_length]))\n",
    "\n",
    "assert(len(result_own) == len(result_robot))"
   ]
  },
  {
   "cell_type": "code",
   "execution_count": 58,
   "metadata": {},
   "outputs": [
    {
     "data": {
      "text/html": [
       "<div>\n",
       "<style scoped>\n",
       "    .dataframe tbody tr th:only-of-type {\n",
       "        vertical-align: middle;\n",
       "    }\n",
       "\n",
       "    .dataframe tbody tr th {\n",
       "        vertical-align: top;\n",
       "    }\n",
       "\n",
       "    .dataframe thead th {\n",
       "        text-align: right;\n",
       "    }\n",
       "</style>\n",
       "<table border=\"1\" class=\"dataframe\">\n",
       "  <thead>\n",
       "    <tr style=\"text-align: right;\">\n",
       "      <th></th>\n",
       "      <th>own</th>\n",
       "      <th>robot</th>\n",
       "    </tr>\n",
       "  </thead>\n",
       "  <tbody>\n",
       "    <tr>\n",
       "      <th>count</th>\n",
       "      <td>1297.000000</td>\n",
       "      <td>1297.000000</td>\n",
       "    </tr>\n",
       "    <tr>\n",
       "      <th>min</th>\n",
       "      <td>0.000000</td>\n",
       "      <td>0.000003</td>\n",
       "    </tr>\n",
       "    <tr>\n",
       "      <th>max</th>\n",
       "      <td>1.000000</td>\n",
       "      <td>1.000000</td>\n",
       "    </tr>\n",
       "    <tr>\n",
       "      <th>median</th>\n",
       "      <td>0.000000</td>\n",
       "      <td>0.168118</td>\n",
       "    </tr>\n",
       "    <tr>\n",
       "      <th>mean</th>\n",
       "      <td>0.272167</td>\n",
       "      <td>0.404221</td>\n",
       "    </tr>\n",
       "    <tr>\n",
       "      <th>skew</th>\n",
       "      <td>0.985097</td>\n",
       "      <td>0.440517</td>\n",
       "    </tr>\n",
       "  </tbody>\n",
       "</table>\n",
       "</div>"
      ],
      "text/plain": [
       "                own        robot\n",
       "count   1297.000000  1297.000000\n",
       "min        0.000000     0.000003\n",
       "max        1.000000     1.000000\n",
       "median     0.000000     0.168118\n",
       "mean       0.272167     0.404221\n",
       "skew       0.985097     0.440517"
      ]
     },
     "execution_count": 58,
     "metadata": {},
     "output_type": "execute_result"
    }
   ],
   "source": [
    "df = pd.DataFrame({\"own\": result_own, \"robot\": result_robot})\n",
    "df.agg([\"count\", \"min\", \"max\", \"median\", \"mean\", \"skew\"])"
   ]
  },
  {
   "cell_type": "code",
   "execution_count": 59,
   "metadata": {},
   "outputs": [
    {
     "data": {
      "image/png": "[encoded data removed]",
      "text/plain": [
       "<Figure size 640x480 with 1 Axes>"
      ]
     },
     "metadata": {},
     "output_type": "display_data"
    }
   ],
   "source": [
    "df.boxplot(column=['own', 'robot'], grid=False)\n",
    "plt.show()"
   ]
  },
  {
   "cell_type": "code",
   "execution_count": null,
   "metadata": {},
   "outputs": [],
   "source": []
  }
 ],
 "metadata": {
  "colab": {
   "authorship_tag": "ABX9TyNgPn/PQdx6vEeYwM6chSeq",
   "provenance": []
  },
  "kernelspec": {
   "display_name": "Python 3 (ipykernel)",
   "language": "python",
   "name": "python3"
  },
  "language_info": {
   "codemirror_mode": {
    "name": "ipython",
    "version": 3
   },
   "file_extension": ".py",
   "mimetype": "text/x-python",
   "name": "python",
   "nbconvert_exporter": "python",
   "pygments_lexer": "ipython3",
   "version": "3.10.13"
  }
 },
 "nbformat": 4,
 "nbformat_minor": 0
}
